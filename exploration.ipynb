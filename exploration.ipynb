{
 "cells": [
  {
   "cell_type": "code",
   "execution_count": 1,
   "metadata": {},
   "outputs": [],
   "source": [
    "import torch\n",
    "from torch.autograd import Variable\n",
    "\n",
    "import numpy as np\n",
    "import matplotlib.pyplot as plt\n",
    "\n",
    "from datasets.linemod.dataset import PoseDataset as PoseDataset_linemod\n",
    "from lib.network import PoseNet, PoseRefineNet"
   ]
  },
  {
   "cell_type": "code",
   "execution_count": 2,
   "metadata": {},
   "outputs": [],
   "source": [
    "# import os\n",
    "# import random\n",
    "# import time\n",
    "# import numpy as np\n",
    "# import matplotlib.pyplot as plt\n",
    "# import torch\n",
    "# import torch.nn as nn\n",
    "# import torch.nn.parallel\n",
    "# import torch.backends.cudnn as cudnn\n",
    "# import torch.optim as optim\n",
    "# import torch.utils.data\n",
    "# import torchvision.datasets as dset\n",
    "# import torchvision.transforms as transforms\n",
    "# import torchvision.utils as vutils\n",
    "# from torch.autograd import Variable\n",
    "# from datasets.ycb.dataset import PoseDataset as PoseDataset_ycb\n",
    "# from datasets.linemod.dataset import PoseDataset as PoseDataset_linemod\n",
    "# from lib.network import PoseNet, PoseRefineNet\n",
    "# from lib.loss import Loss\n",
    "# from lib.loss_refiner import Loss_refine\n",
    "# from lib.utils import setup_logger\n"
   ]
  },
  {
   "cell_type": "code",
   "execution_count": 3,
   "metadata": {},
   "outputs": [],
   "source": [
    "opt_dataset_root = \"/ssd_scratch/cvit/amoghtiwari/densefusion/data/Linemod_preprocessed/\"\n",
    "opt_noise_trans = 0.03\n",
    "opt_num_objects = 13\n",
    "opt_num_points = 500\n",
    "opt_workers = 8\n",
    "\n",
    "opt_refine_start = False\n",
    "opt_decay_start = False"
   ]
  },
  {
   "cell_type": "code",
   "execution_count": 4,
   "metadata": {},
   "outputs": [
    {
     "name": "stderr",
     "output_type": "stream",
     "text": [
      "/home/amoghtiwari/DenseFusion/datasets/linemod/dataset.py:66: YAMLLoadWarning: calling yaml.load() without Loader=... is deprecated, as the default Loader is unsafe. Please read https://msg.pyyaml.org/load for full details.\n",
      "  self.meta[item] = yaml.load(meta_file)\n"
     ]
    },
    {
     "name": "stdout",
     "output_type": "stream",
     "text": [
      "Object 1 buffer loaded\n",
      "Object 2 buffer loaded\n",
      "Object 4 buffer loaded\n",
      "Object 5 buffer loaded\n",
      "Object 6 buffer loaded\n",
      "Object 8 buffer loaded\n",
      "Object 9 buffer loaded\n",
      "Object 10 buffer loaded\n",
      "Object 11 buffer loaded\n",
      "Object 12 buffer loaded\n",
      "Object 13 buffer loaded\n",
      "Object 14 buffer loaded\n",
      "Object 15 buffer loaded\n"
     ]
    }
   ],
   "source": [
    "dataset = PoseDataset_linemod('train', opt_num_points, True, opt_dataset_root, opt_noise_trans, opt_refine_start)\n",
    "# Point Cloud\n",
    "# Choose\n",
    "# Masked Image\n",
    "# Target\n",
    "# Model Points\n",
    "# Index"
   ]
  },
  {
   "cell_type": "code",
   "execution_count": 5,
   "metadata": {},
   "outputs": [
    {
     "name": "stdout",
     "output_type": "stream",
     "text": [
      "Object 1 buffer loaded\n",
      "Object 2 buffer loaded\n",
      "Object 4 buffer loaded\n",
      "Object 5 buffer loaded\n",
      "Object 6 buffer loaded\n",
      "Object 8 buffer loaded\n",
      "Object 9 buffer loaded\n",
      "Object 10 buffer loaded\n",
      "Object 11 buffer loaded\n",
      "Object 12 buffer loaded\n",
      "Object 13 buffer loaded\n",
      "Object 14 buffer loaded\n",
      "Object 15 buffer loaded\n"
     ]
    }
   ],
   "source": [
    "eval_dataset = PoseDataset_linemod('eval', opt_num_points, True, opt_dataset_root, opt_noise_trans, opt_refine_start)\n",
    "# Point Cloud\n",
    "# Choose\n",
    "# Masked Image\n",
    "# Target\n",
    "# Model Points\n",
    "# Index"
   ]
  },
  {
   "cell_type": "code",
   "execution_count": 6,
   "metadata": {},
   "outputs": [],
   "source": [
    "dataloader = torch.utils.data.DataLoader(dataset, batch_size=1, shuffle=False, num_workers=opt_workers)"
   ]
  },
  {
   "cell_type": "code",
   "execution_count": 7,
   "metadata": {},
   "outputs": [],
   "source": [
    "eval_dataloader = torch.utils.data.DataLoader(eval_dataset, batch_size=1, shuffle=False, num_workers=opt_workers)"
   ]
  },
  {
   "cell_type": "code",
   "execution_count": 1,
   "metadata": {
    "scrolled": true
   },
   "outputs": [
    {
     "ename": "NameError",
     "evalue": "name 'dataloader' is not defined",
     "output_type": "error",
     "traceback": [
      "\u001b[0;31m---------------------------------------------------------------------------\u001b[0m",
      "\u001b[0;31mNameError\u001b[0m                                 Traceback (most recent call last)",
      "\u001b[0;32m<ipython-input-1-00f67586f2f7>\u001b[0m in \u001b[0;36m<module>\u001b[0;34m\u001b[0m\n\u001b[1;32m      1\u001b[0m \u001b[0;31m# points, choose, img, target, model_points, idx = next(iter(data))\u001b[0m\u001b[0;34m\u001b[0m\u001b[0;34m\u001b[0m\u001b[0;34m\u001b[0m\u001b[0m\n\u001b[1;32m      2\u001b[0m \u001b[0;34m\u001b[0m\u001b[0m\n\u001b[0;32m----> 3\u001b[0;31m \u001b[0;32mfor\u001b[0m \u001b[0mi\u001b[0m\u001b[0;34m,\u001b[0m \u001b[0mdata\u001b[0m \u001b[0;32min\u001b[0m \u001b[0menumerate\u001b[0m\u001b[0;34m(\u001b[0m\u001b[0mdataloader\u001b[0m\u001b[0;34m,\u001b[0m \u001b[0;36m0\u001b[0m\u001b[0;34m)\u001b[0m\u001b[0;34m:\u001b[0m\u001b[0;34m\u001b[0m\u001b[0;34m\u001b[0m\u001b[0m\n\u001b[0m\u001b[1;32m      4\u001b[0m     \u001b[0;32mfor\u001b[0m \u001b[0mj\u001b[0m\u001b[0;34m,\u001b[0m \u001b[0meval_data\u001b[0m \u001b[0;32min\u001b[0m \u001b[0menumerate\u001b[0m\u001b[0;34m(\u001b[0m\u001b[0meval_dataloader\u001b[0m\u001b[0;34m,\u001b[0m \u001b[0;36m0\u001b[0m\u001b[0;34m)\u001b[0m\u001b[0;34m:\u001b[0m\u001b[0;34m\u001b[0m\u001b[0;34m\u001b[0m\u001b[0m\n\u001b[1;32m      5\u001b[0m         \u001b[0;32mif\u001b[0m \u001b[0mi\u001b[0m \u001b[0;34m!=\u001b[0m \u001b[0mj\u001b[0m\u001b[0;34m:\u001b[0m\u001b[0;34m\u001b[0m\u001b[0;34m\u001b[0m\u001b[0m\n",
      "\u001b[0;31mNameError\u001b[0m: name 'dataloader' is not defined"
     ]
    }
   ],
   "source": [
    "# points, choose, img, target, model_points, idx = next(iter(data))\n",
    "\n",
    "for i, data in enumerate(dataloader, 0):\n",
    "    for j, eval_data in enumerate(eval_dataloader, 0):\n",
    "        if i != j:\n",
    "            continue\n",
    "        print(i,j)\n",
    "#     print(i, data)\n",
    "        \n",
    "        points, choose, img, target, model_points, idx = data\n",
    "        eval_points, eval_choose, eval_img, eval_target, eval_model_points, eval_idx = eval_data\n",
    "    #     print(\"Shapes: \", points.shape, choose.shape, img.shape, target.shape, model_points.shape, idx.shape)\n",
    "    #     print(\"Object ID:\", idx)\n",
    "        np_img = img.permute(2,3,1,0)[:,:,:,0].cpu().numpy()\n",
    "        np_img = np_img / np_img.max()\n",
    "        np_img_eval = eval_img.permute(2,3,1,0)[:,:,:,0].cpu().numpy()\n",
    "        np_img_eval = np_img_eval / np_img_eval.max()\n",
    "\n",
    "        plt.imshow(np_img)\n",
    "        plt.imshow(np_img_eval)\n",
    "        plt.show()\n",
    "        \n",
    "        if j > 1:\n",
    "            break\n",
    "    if i > 1:\n",
    "        break"
   ]
  },
  {
   "cell_type": "code",
   "execution_count": null,
   "metadata": {},
   "outputs": [],
   "source": [
    "inst = next(iter(dataloader))"
   ]
  },
  {
   "cell_type": "code",
   "execution_count": null,
   "metadata": {},
   "outputs": [],
   "source": [
    "inst[1].shape"
   ]
  },
  {
   "cell_type": "code",
   "execution_count": null,
   "metadata": {},
   "outputs": [],
   "source": [
    "# for i in range(6):\n",
    "#     print(inst[i].shape)\n",
    "#     print(inst[i])"
   ]
  },
  {
   "cell_type": "markdown",
   "metadata": {},
   "source": [
    "# Load Estimator Model"
   ]
  },
  {
   "cell_type": "code",
   "execution_count": null,
   "metadata": {},
   "outputs": [],
   "source": [
    "estimator = PoseNet(num_points = opt_num_points, num_obj = opt_num_objects)\n",
    "estimator.cuda()"
   ]
  },
  {
   "cell_type": "markdown",
   "metadata": {},
   "source": [
    "# Predict"
   ]
  },
  {
   "cell_type": "code",
   "execution_count": null,
   "metadata": {},
   "outputs": [],
   "source": [
    "points_pt, choose_pt, img_pt, target_pt, model_points_pt, idx_pt = Variable(points).cuda(), \\\n",
    "                                                 Variable(choose).cuda(), \\\n",
    "                                                 Variable(img).cuda(), \\\n",
    "                                                 Variable(target).cuda(), \\\n",
    "                                                 Variable(model_points).cuda(), \\\n",
    "                                                 Variable(idx).cuda()"
   ]
  },
  {
   "cell_type": "code",
   "execution_count": null,
   "metadata": {},
   "outputs": [],
   "source": [
    "points_pt.shape"
   ]
  },
  {
   "cell_type": "code",
   "execution_count": null,
   "metadata": {},
   "outputs": [],
   "source": [
    "pred_r, pred_t, pred_c, emb = estimator(img_pt, points_pt, choose_pt, idx_pt)"
   ]
  },
  {
   "cell_type": "code",
   "execution_count": null,
   "metadata": {},
   "outputs": [],
   "source": [
    "emb.shape"
   ]
  },
  {
   "cell_type": "code",
   "execution_count": null,
   "metadata": {},
   "outputs": [],
   "source": [
    "plt.imshow(img.permute(2,3,1,0)[:,:,:,0]/img.max())"
   ]
  },
  {
   "cell_type": "code",
   "execution_count": null,
   "metadata": {},
   "outputs": [],
   "source": [
    "points, choose, img, target, model_points, idx = data"
   ]
  },
  {
   "cell_type": "code",
   "execution_count": null,
   "metadata": {},
   "outputs": [],
   "source": [
    "plt.imshow(img.permute(2,3,1,0)[:,:,:,0]/img.max())"
   ]
  },
  {
   "cell_type": "code",
   "execution_count": null,
   "metadata": {},
   "outputs": [],
   "source": []
  },
  {
   "cell_type": "code",
   "execution_count": null,
   "metadata": {},
   "outputs": [],
   "source": [
    "!which python"
   ]
  }
 ],
 "metadata": {
  "kernelspec": {
   "display_name": "densefusion",
   "language": "python",
   "name": "densefusion"
  },
  "language_info": {
   "codemirror_mode": {
    "name": "ipython",
    "version": 3
   },
   "file_extension": ".py",
   "mimetype": "text/x-python",
   "name": "python",
   "nbconvert_exporter": "python",
   "pygments_lexer": "ipython3",
   "version": "3.6.13"
  }
 },
 "nbformat": 4,
 "nbformat_minor": 4
}
